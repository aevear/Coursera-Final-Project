{
 "cells": [
  {
   "cell_type": "markdown",
   "metadata": {},
   "source": [
    "# Import Libraries"
   ]
  },
  {
   "cell_type": "code",
   "execution_count": 1,
   "metadata": {},
   "outputs": [],
   "source": [
    "import pandas as pd\n",
    "import requests\n",
    "from pandas.io.json import json_normalize\n",
    "import numpy as np\n",
    "from sklearn.cluster import DBSCAN \n",
    "import matplotlib.pyplot as plt\n"
   ]
  },
  {
   "cell_type": "markdown",
   "metadata": {},
   "source": [
    "# Gather initial data - Boston Districts"
   ]
  },
  {
   "cell_type": "markdown",
   "metadata": {},
   "source": [
    "#### Foursquare Credentials"
   ]
  },
  {
   "cell_type": "code",
   "execution_count": 2,
   "metadata": {},
   "outputs": [],
   "source": [
    "labelResteraunt = \"Mexican Restaurant\"\n",
    "LIMIT = 100"
   ]
  },
  {
   "cell_type": "code",
   "execution_count": 3,
   "metadata": {},
   "outputs": [
    {
     "name": "stdout",
     "output_type": "stream",
     "text": [
      "Your credentails:\n",
      "CLIENT_ID: JFYULM12BC04XJ0S2QSZ5UZCLJPRYHJCNDSFTHSNFXE4ZGP2\n",
      "CLIENT_SECRET:IEF3IIMXP0VWRL13B4VP4OS2MB1JBOZLCNPT3Q2ZMNGZ0ZOT\n"
     ]
    }
   ],
   "source": [
    "CLIENT_ID = 'JFYULM12BC04XJ0S2QSZ5UZCLJPRYHJCNDSFTHSNFXE4ZGP2' # your Foursquare ID\n",
    "CLIENT_SECRET = 'IEF3IIMXP0VWRL13B4VP4OS2MB1JBOZLCNPT3Q2ZMNGZ0ZOT' # your Foursquare Secret\n",
    "VERSION = '20180604'\n",
    "print('Your credentails:')\n",
    "print('CLIENT_ID: ' + CLIENT_ID)\n",
    "print('CLIENT_SECRET:' + CLIENT_SECRET)"
   ]
  },
  {
   "cell_type": "markdown",
   "metadata": {},
   "source": [
    "#### Load in Boston District Data"
   ]
  },
  {
   "cell_type": "code",
   "execution_count": 4,
   "metadata": {},
   "outputs": [
    {
     "data": {
      "text/html": [
       "<div>\n",
       "<style scoped>\n",
       "    .dataframe tbody tr th:only-of-type {\n",
       "        vertical-align: middle;\n",
       "    }\n",
       "\n",
       "    .dataframe tbody tr th {\n",
       "        vertical-align: top;\n",
       "    }\n",
       "\n",
       "    .dataframe thead th {\n",
       "        text-align: right;\n",
       "    }\n",
       "</style>\n",
       "<table border=\"1\" class=\"dataframe\">\n",
       "  <thead>\n",
       "    <tr style=\"text-align: right;\">\n",
       "      <th></th>\n",
       "      <th>Neighborhood</th>\n",
       "      <th>Latitude</th>\n",
       "      <th>Longitude</th>\n",
       "    </tr>\n",
       "  </thead>\n",
       "  <tbody>\n",
       "    <tr>\n",
       "      <th>0</th>\n",
       "      <td>Allson</td>\n",
       "      <td>42.352900</td>\n",
       "      <td>71.132100</td>\n",
       "    </tr>\n",
       "    <tr>\n",
       "      <th>1</th>\n",
       "      <td>Back Bay</td>\n",
       "      <td>42.351294</td>\n",
       "      <td>-71.080356</td>\n",
       "    </tr>\n",
       "    <tr>\n",
       "      <th>2</th>\n",
       "      <td>Bay Village</td>\n",
       "      <td>42.349100</td>\n",
       "      <td>-71.068000</td>\n",
       "    </tr>\n",
       "    <tr>\n",
       "      <th>3</th>\n",
       "      <td>Beacon Hill</td>\n",
       "      <td>42.358300</td>\n",
       "      <td>-71.066100</td>\n",
       "    </tr>\n",
       "    <tr>\n",
       "      <th>4</th>\n",
       "      <td>Brighton</td>\n",
       "      <td>42.346400</td>\n",
       "      <td>-71.162700</td>\n",
       "    </tr>\n",
       "  </tbody>\n",
       "</table>\n",
       "</div>"
      ],
      "text/plain": [
       "  Neighborhood   Latitude  Longitude\n",
       "0       Allson  42.352900  71.132100\n",
       "1     Back Bay  42.351294 -71.080356\n",
       "2  Bay Village  42.349100 -71.068000\n",
       "3  Beacon Hill  42.358300 -71.066100\n",
       "4     Brighton  42.346400 -71.162700"
      ]
     },
     "execution_count": 4,
     "metadata": {},
     "output_type": "execute_result"
    }
   ],
   "source": [
    "#Loads data from a csv file and puts it into a table using pandas\n",
    "boston_nh = pd.read_csv('bostonneighborhoods.csv')\n",
    "boston_nh.head()"
   ]
  },
  {
   "cell_type": "code",
   "execution_count": 5,
   "metadata": {},
   "outputs": [],
   "source": [
    "#Loads data from a csv file and puts it into a table using pandas\n",
    "#boston_pop = pd.read_csv('bostonpop.csv')\n",
    "#boston_pop.head()"
   ]
  },
  {
   "cell_type": "markdown",
   "metadata": {},
   "source": [
    "#### Combine the two datasets together"
   ]
  },
  {
   "cell_type": "code",
   "execution_count": 6,
   "metadata": {},
   "outputs": [],
   "source": [
    "#boston_combined = boston_nh.join(boston_pop.set_index('Neighborhood'), on='Neighborhood')\n",
    "#boston_combined.head()"
   ]
  },
  {
   "cell_type": "markdown",
   "metadata": {},
   "source": [
    "### List of Resteraunt types"
   ]
  },
  {
   "cell_type": "code",
   "execution_count": 7,
   "metadata": {},
   "outputs": [],
   "source": [
    "# Url : https://developer.foursquare.com/docs/build-with-foursquare/categories\n",
    "\n",
    "food_venues = {\n",
    "'foursquareID_food'     : \"4d4b7105d754a06374d81259\",\n",
    "'foursquareID_african'  : \"4bf58dd8d48988d1c8941735\",\n",
    "'foursquareID_american' : \"4bf58dd8d48988d14e941735\",\n",
    "'foursquareID_asian'    : \"4bf58dd8d48988d142941735\",\n",
    "'foursquareID_chinese'  : \"4bf58dd8d48988d145941735\",\n",
    "'foursquareID_japanese' : \"4bf58dd8d48988d111941735\",\n",
    "'foursquareID_korean'   : \"4bf58dd8d48988d113941735\",\n",
    "'foursquareID_thai'     : \"4bf58dd8d48988d149941735\",\n",
    "'foursquareID_bbq'      : \"4bf58dd8d48988d1df931735\",\n",
    "'foursquareID_buffet'   : '52e81612bcbc57f1066b79f4',\n",
    "'foursquareID_burger'   : '4bf58dd8d48988d16c941735',\n",
    "'foursquareID_fish'     : '4edd64a0c7ddd24ca188df1a',\n",
    "'foursquareID_french'   : '4bf58dd8d48988d10c941735',\n",
    "'foursquareID_german'   : '4bf58dd8d48988d10d941735',\n",
    "'foursquareID_greek'    : '4bf58dd8d48988d10e941735',\n",
    "'foursquareID_indian'   : '4bf58dd8d48988d10f941735',\n",
    "'foursquareID_italian'  : '4bf58dd8d48988d110941735',\n",
    "'foursquareID_latin'    : '4bf58dd8d48988d1be941735',\n",
    "'foursquareID_mexian'   : '4bf58dd8d48988d1c1941735',\n",
    "'foursquareID_med'      : '4bf58dd8d48988d1c0941735',\n",
    "'foursquareID_middleE'  : '4bf58dd8d48988d115941735',\n",
    "'foursquareID_pizza'    : '4bf58dd8d48988d1ca941735',\n",
    "'foursquareID_southern' : '4bf58dd8d48988d14f941735',\n",
    "'foursquareID_spanish'  : '4bf58dd8d48988d150941735',\n",
    "'foursquareID_steak'    : '4bf58dd8d48988d1cc941735',\n",
    "'foursquareID_turkish'  : '4f04af1f2fb6e1c99f3db0bb'\n",
    "}\n",
    "\n",
    "venue_ids = (list(food_venues.values()))\n",
    "#venue_ids = [\"4d4b7105d754a06374d81259\",'4bf58dd8d48988d142941735']"
   ]
  },
  {
   "cell_type": "markdown",
   "metadata": {},
   "source": [
    "### Pull data from Foursquare"
   ]
  },
  {
   "cell_type": "code",
   "execution_count": 8,
   "metadata": {},
   "outputs": [],
   "source": [
    "def getVenues(names, latitudes, longitudes, radius, category):\n",
    "    \n",
    "    venues_list=[]\n",
    "    for name, lat, lng in zip(names, latitudes, longitudes):\n",
    "        \n",
    "            \n",
    "        # create the API request URL\n",
    "        url = 'https://api.foursquare.com/v2/venues/explore?&client_id={}&client_secret={}&v={}&ll={},{}&radius={}&limit={}&categoryId={}'.format(\n",
    "            CLIENT_ID, \n",
    "            CLIENT_SECRET, \n",
    "            VERSION, \n",
    "            lat, \n",
    "            lng, \n",
    "            radius, \n",
    "            LIMIT,\n",
    "            category)\n",
    "            \n",
    "        # make the GET request\n",
    "        results = requests.get(url).json()[\"response\"]['groups'][0]['items']\n",
    "        \n",
    "        # return only relevant information for each nearby venue\n",
    "        venues_list.append([(\n",
    "            name, \n",
    "            v['venue']['name'], \n",
    "            v['venue']['location']['lat'], \n",
    "            v['venue']['location']['lng'],  \n",
    "            v['venue']['categories'][0]['name']) for v in results])\n",
    "\n",
    "    boston_venues = pd.DataFrame([item for venue_list in venues_list for item in venue_list])\n",
    "    boston_venues.columns = ['Neighborhood', \n",
    "                  'Venue', \n",
    "                  'Venue Latitude', \n",
    "                  'Venue Longitude', \n",
    "                  'Venue Category']\n",
    "    \n",
    "    return(boston_venues)"
   ]
  },
  {
   "cell_type": "code",
   "execution_count": 9,
   "metadata": {},
   "outputs": [
    {
     "name": "stdout",
     "output_type": "stream",
     "text": [
      "4d4b7105d754a06374d81259\n",
      "4bf58dd8d48988d1c8941735\n",
      "4bf58dd8d48988d14e941735\n",
      "4bf58dd8d48988d142941735\n",
      "4bf58dd8d48988d145941735\n",
      "4bf58dd8d48988d111941735\n",
      "4bf58dd8d48988d113941735\n",
      "4bf58dd8d48988d149941735\n",
      "4bf58dd8d48988d1df931735\n",
      "52e81612bcbc57f1066b79f4\n",
      "4bf58dd8d48988d16c941735\n",
      "4edd64a0c7ddd24ca188df1a\n",
      "4bf58dd8d48988d10c941735\n",
      "4bf58dd8d48988d10d941735\n",
      "4bf58dd8d48988d10e941735\n",
      "4bf58dd8d48988d10f941735\n",
      "4bf58dd8d48988d110941735\n",
      "4bf58dd8d48988d1be941735\n",
      "4bf58dd8d48988d1c1941735\n",
      "4bf58dd8d48988d1c0941735\n",
      "4bf58dd8d48988d115941735\n",
      "4bf58dd8d48988d1ca941735\n",
      "4bf58dd8d48988d14f941735\n",
      "4bf58dd8d48988d150941735\n",
      "4bf58dd8d48988d1cc941735\n",
      "4f04af1f2fb6e1c99f3db0bb\n"
     ]
    }
   ],
   "source": [
    "venueInfo = []\n",
    "LIMIT = 100\n",
    "radius = 1000\n",
    "for cID in venue_ids:\n",
    "    print(cID)\n",
    "    try:\n",
    "        boston_venues = getVenues(names=boston_nh['Neighborhood'],\n",
    "                                           latitudes=boston_nh['Latitude'],\n",
    "                                           longitudes=boston_nh['Longitude'],\n",
    "                                           radius = radius,\n",
    "                                           category = cID\n",
    "                                          )\n",
    "        venueInfo.append(boston_venues)\n",
    "    except: pass"
   ]
  },
  {
   "cell_type": "markdown",
   "metadata": {},
   "source": [
    "### Combine the total datasets into one Frame, remove non-unique's"
   ]
  },
  {
   "cell_type": "code",
   "execution_count": 62,
   "metadata": {},
   "outputs": [],
   "source": [
    "header = ['Neighborhood','Venue','Venue Latitude','Venue Longitude','Venue Category']\n",
    "totalData = pd.DataFrame(columns=header)\n",
    "#-----------------------------------------------\n",
    "for k in venueInfo:\n",
    "    totalData = pd.concat([k, totalData], ignore_index=True,sort=True)\n",
    "\n",
    "totalData = pd.DataFrame.drop_duplicates(totalData)\n",
    "totalData.reset_index(drop=True, inplace=True)\n"
   ]
  },
  {
   "cell_type": "code",
   "execution_count": 63,
   "metadata": {},
   "outputs": [
    {
     "data": {
      "text/plain": [
       "3954"
      ]
     },
     "execution_count": 63,
     "metadata": {},
     "output_type": "execute_result"
    }
   ],
   "source": [
    "len(totalData)"
   ]
  },
  {
   "cell_type": "markdown",
   "metadata": {},
   "source": [
    "### Setup the X values used for Clustering"
   ]
  },
  {
   "cell_type": "code",
   "execution_count": 64,
   "metadata": {
    "scrolled": false
   },
   "outputs": [],
   "source": [
    "clusterList,longList,latList = [], [], []\n",
    "labels = []\n",
    "#clusterArray = np.array([])\n",
    "\n",
    "for row in range(len(totalData)):\n",
    "    long = totalData.at[row, \"Venue Longitude\"]\n",
    "    lat  = totalData.at[row, \"Venue Latitude\"]\n",
    "    #---------------------------------\n",
    "    labels.append(totalData.at[row, \"Venue Category\"])\n",
    "    clusterList.append( (long,lat) )\n",
    "    longList.append(long) # Used for making maps later\n",
    "    latList.append(lat) # Used for making maps later"
   ]
  },
  {
   "cell_type": "markdown",
   "metadata": {},
   "source": [
    "### Graph Current Locations"
   ]
  },
  {
   "cell_type": "code",
   "execution_count": 65,
   "metadata": {},
   "outputs": [
    {
     "data": {
      "text/plain": [
       "<matplotlib.collections.PathCollection at 0x7f9a73fc7390>"
      ]
     },
     "execution_count": 65,
     "metadata": {},
     "output_type": "execute_result"
    },
    {
     "data": {
      "image/png": "[encoded data removed]",
      "text/plain": [
       "<Figure size 432x288 with 1 Axes>"
      ]
     },
     "metadata": {
      "needs_background": "light"
     },
     "output_type": "display_data"
    }
   ],
   "source": [
    "#list1 = arr.tolist()\n",
    "plt.scatter(longList, latList)"
   ]
  },
  {
   "cell_type": "markdown",
   "metadata": {},
   "source": [
    "# DBScan"
   ]
  },
  {
   "cell_type": "markdown",
   "metadata": {},
   "source": [
    "#### Now we run the code through DB Scan to make the groups"
   ]
  },
  {
   "cell_type": "code",
   "execution_count": 66,
   "metadata": {},
   "outputs": [],
   "source": [
    "# Epsilon dictates how tight the density groups can be.\n",
    "# Min samples says how few data points are needed for a cluster to form\n",
    "# Cluster list is a numpy array containing the X and Y coordinates of every Venue\n",
    "dbScan = DBSCAN(eps=0.001, min_samples=5).fit_predict(clusterList) "
   ]
  },
  {
   "cell_type": "code",
   "execution_count": 67,
   "metadata": {},
   "outputs": [
    {
     "data": {
      "text/plain": [
       "<matplotlib.collections.PathCollection at 0x7f9a74491320>"
      ]
     },
     "execution_count": 67,
     "metadata": {},
     "output_type": "execute_result"
    },
    {
     "data": {
      "image/png": "[encoded data removed]",
      "text/plain": [
       "<Figure size 432x288 with 1 Axes>"
      ]
     },
     "metadata": {
      "needs_background": "light"
     },
     "output_type": "display_data"
    }
   ],
   "source": [
    "plt.scatter(longList, latList, c=dbScan)"
   ]
  },
  {
   "cell_type": "markdown",
   "metadata": {},
   "source": [
    "### Now that we have the clusters, we can figure out how many venue's are in each"
   ]
  },
  {
   "cell_type": "code",
   "execution_count": 70,
   "metadata": {},
   "outputs": [
    {
     "name": "stdout",
     "output_type": "stream",
     "text": [
      "94\n"
     ]
    }
   ],
   "source": [
    "# Lets figure out how many clusters have been made\n",
    "clusterResultList = []\n",
    "for k in dbScan:\n",
    "    clusterResultList.append(str(k))\n",
    "\n",
    "clusterList = list(set(clusterResultList))\n",
    "if \"-1\" in clusterList: clusterList.remove(\"-1\")\n",
    "\n",
    "print(len(clusterList))"
   ]
  },
  {
   "cell_type": "markdown",
   "metadata": {},
   "source": [
    "### Lets get the amount of resteraunts per district"
   ]
  },
  {
   "cell_type": "code",
   "execution_count": 72,
   "metadata": {},
   "outputs": [],
   "source": [
    "numberOfResterauntsPerCluster = []\n",
    "for c in clusterList:\n",
    "    counter = 0\n",
    "    for k in clusterResultList:\n",
    "        if k == c:\n",
    "            counter+=1\n",
    "    numberOfResterauntsPerCluster.append(counter)\n",
    "#numberOfResterauntsPerCluster"
   ]
  },
  {
   "cell_type": "code",
   "execution_count": 57,
   "metadata": {},
   "outputs": [],
   "source": [
    "numberOfMexicanPerCluster = []\n",
    "\n",
    "for c in clusterList:\n",
    "    counter = 0\n",
    "    for idx in range(len(clusterResultList)):\n",
    "        if c == clusterResultList[idx]: # This means that the district and catagory algin\n",
    "            if labels[idx] == labelResteraunt:\n",
    "                counter+=1\n",
    "    numberOfMexicanPerCluster.append(counter)\n",
    "#numberOfMexicanPerCluster"
   ]
  },
  {
   "cell_type": "markdown",
   "metadata": {},
   "source": [
    "### Now, we generate a table to show value of each cluster"
   ]
  },
  {
   "cell_type": "code",
   "execution_count": 58,
   "metadata": {},
   "outputs": [
    {
     "data": {
      "text/plain": [
       "[('57', 0.0005058168942842691),\n",
       " ('55', 0.00025290844714213456),\n",
       " ('3', 0.0007587253414264037),\n",
       " ('58', 0.00025290844714213456),\n",
       " ('64', 0.00025290844714213456),\n",
       " ('33', 0.0007587253414264037),\n",
       " ('52', 0.0005058168942842691),\n",
       " ('22', 0.00025290844714213456),\n",
       " ('21', 0.00025290844714213456),\n",
       " ('16', 0.0015174506828528073),\n",
       " ('8', 0.002529084471421346),\n",
       " ('1', 0.019473950429944358),\n",
       " ('70', 0.0005058168942842691),\n",
       " ('6', 0.0005058168942842691),\n",
       " ('47', 0.0010116337885685382),\n",
       " ('12', 0.0005058168942842691),\n",
       " ('75', 0.00025290844714213456),\n",
       " ('62', 0.00025290844714213456),\n",
       " ('2', 0.0032878098128477492),\n",
       " ('50', 0.00025290844714213456),\n",
       " ('0', 0.0005058168942842691),\n",
       " ('20', 0.0010116337885685382),\n",
       " ('7', 0.0005058168942842691),\n",
       " ('32', 0.0030349013657056142),\n",
       " ('73', 0.0005058168942842691),\n",
       " ('86', 0.00025290844714213456),\n",
       " ('10', 0.0005058168942842691)]"
      ]
     },
     "execution_count": 58,
     "metadata": {},
     "output_type": "execute_result"
    }
   ],
   "source": [
    "totalVenues = len(clusterResultList)\n",
    "finalResults = []\n",
    "\n",
    "for idx in range(len(clusterList)):\n",
    "    weight = numberOfResterauntsPerCluster[idx]/totalVenues\n",
    "    percentX = numberOfMexicanPerCluster[idx]/numberOfResterauntsPerCluster[idx]\n",
    "    value = weight*percentX    \n",
    "    if percentX !=0:\n",
    "        finalResults.append( (clusterList[idx],value) )\n",
    "        \n",
    "finalResults"
   ]
  },
  {
   "cell_type": "markdown",
   "metadata": {},
   "source": [
    "### Find the largest sector"
   ]
  },
  {
   "cell_type": "code",
   "execution_count": 78,
   "metadata": {},
   "outputs": [
    {
     "name": "stdout",
     "output_type": "stream",
     "text": [
      "0.0005058168942842691\n",
      "0.00025290844714213456\n",
      "0.0007587253414264037\n",
      "0.00025290844714213456\n",
      "0.00025290844714213456\n",
      "0.0007587253414264037\n",
      "0.0005058168942842691\n",
      "0.00025290844714213456\n",
      "0.00025290844714213456\n",
      "0.0015174506828528073\n",
      "0.002529084471421346\n",
      "0.019473950429944358\n",
      "0.0005058168942842691\n",
      "0.0005058168942842691\n",
      "0.0010116337885685382\n",
      "0.0005058168942842691\n",
      "0.00025290844714213456\n",
      "0.00025290844714213456\n",
      "0.0032878098128477492\n",
      "0.00025290844714213456\n",
      "0.0005058168942842691\n",
      "0.0010116337885685382\n",
      "0.0005058168942842691\n",
      "0.0030349013657056142\n",
      "0.0005058168942842691\n",
      "0.00025290844714213456\n",
      "0.0005058168942842691\n",
      "Max id is : 1\n"
     ]
    }
   ],
   "source": [
    "maxValue, maxName = 0.000001, ''\n",
    "for k in finalResults:\n",
    "    print(k[1])\n",
    "    if k[1] > maxValue:\n",
    "        maxValue = k[1]\n",
    "        maxName  = k[0]\n",
    "        \n",
    "print(\"Max id is : \" + maxName)"
   ]
  },
  {
   "cell_type": "markdown",
   "metadata": {},
   "source": [
    "### Find the X/Y coordinates"
   ]
  },
  {
   "cell_type": "code",
   "execution_count": 77,
   "metadata": {},
   "outputs": [
    {
     "name": "stdout",
     "output_type": "stream",
     "text": [
      "The Area that could use additional Mexican Restaurant is around '-71.0588586089431' Longitude and '42.35557291694653' Latitude in Boston\n"
     ]
    }
   ],
   "source": [
    "counter, longCounter, latCounter = 0, 0.0, 0.0\n",
    "\n",
    "\n",
    "for idx in range(len(clusterResultList)):\n",
    "    if clusterResultList[idx] == maxName:\n",
    "        counter+=1\n",
    "        longCounter = longCounter + longList[idx]\n",
    "        latCounter  = latCounter  + latList[idx]\n",
    "        \n",
    "print(f\"The Area that could use additional {labelResteraunt} is around '{longCounter/counter}' Longitude and '{latCounter/counter}' Latitude in Boston\")"
   ]
  },
  {
   "cell_type": "code",
   "execution_count": null,
   "metadata": {},
   "outputs": [],
   "source": []
  },
  {
   "cell_type": "code",
   "execution_count": null,
   "metadata": {},
   "outputs": [],
   "source": []
  }
 ],
 "metadata": {
  "kernelspec": {
   "display_name": "Python 3",
   "language": "python",
   "name": "python3"
  },
  "language_info": {
   "codemirror_mode": {
    "name": "ipython",
    "version": 3
   },
   "file_extension": ".py",
   "mimetype": "text/x-python",
   "name": "python",
   "nbconvert_exporter": "python",
   "pygments_lexer": "ipython3",
   "version": "3.7.3"
  }
 },
 "nbformat": 4,
 "nbformat_minor": 2
}
